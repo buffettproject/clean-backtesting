{
 "cells": [
  {
   "cell_type": "code",
   "execution_count": 1,
   "metadata": {},
   "outputs": [],
   "source": [
    "from preprocessor import Dataset"
   ]
  },
  {
   "cell_type": "code",
   "execution_count": 2,
   "metadata": {},
   "outputs": [],
   "source": [
    "um = Dataset.load(\"binance.klines.um.btcusdt.8h\", update=False)"
   ]
  },
  {
   "cell_type": "code",
   "execution_count": 4,
   "metadata": {},
   "outputs": [],
   "source": [
    "um_pandas = Dataset.load(\"binance.klines.um.btcusdt.8h\", update=False, pandas=True)"
   ]
  },
  {
   "cell_type": "code",
   "execution_count": 17,
   "metadata": {},
   "outputs": [],
   "source": [
    "spot = Dataset.load(\"binance.klines.spot.btcusdt.8h\", update=False)\n",
    "spot = um.select(\"datetime\").join(spot, on=\"datetime\", how=\"left\")\n",
    "spot_pandas = Dataset.load(\"binance.klines.spot.btcusdt.8h\", update=False, pandas=True).reindex(um_pandas.index)"
   ]
  },
  {
   "cell_type": "code",
   "execution_count": 18,
   "metadata": {},
   "outputs": [],
   "source": [
    "spread_now = um[\"close\"] / spot[\"close\"] - 1\n"
   ]
  },
  {
   "cell_type": "code",
   "execution_count": 19,
   "metadata": {},
   "outputs": [],
   "source": [
    "spread_before = um_pandas[\"Open\"] / spot_pandas[\"Open\"] - 1"
   ]
  },
  {
   "cell_type": "code",
   "execution_count": 2,
   "metadata": {},
   "outputs": [
    {
     "name": "stdout",
     "output_type": "stream",
     "text": [
      "Temporary directory created by metrics.py: /var/folders/bl/q78dpd8s5lzb6t1zb3mmrv800000gn/T/tmpcj7s0ctb\n",
      "Temporary directory created by download_metrics.sh: /var/folders/bl/q78dpd8s5lzb6t1zb3mmrv800000gn/T/preprocess-XXXXXX.FEHY5cst7O\n"
     ]
    },
    {
     "name": "stderr",
     "output_type": "stream",
     "text": [
      "\n",
      "1127 archives were successfully processed.\n"
     ]
    }
   ],
   "source": [
    "tmp = Dataset.load('binance.metrics.um.btcusdt', update = True)"
   ]
  },
  {
   "cell_type": "code",
   "execution_count": 9,
   "metadata": {},
   "outputs": [],
   "source": [
    "import polars as pl\n",
    "from preprocessor import Dataset\n"
   ]
  },
  {
   "cell_type": "code",
   "execution_count": 74,
   "metadata": {},
   "outputs": [],
   "source": [
    "price_1h = Dataset.load(\"binance.klines.um.btcusdt.1h\", update=False)\n"
   ]
  },
  {
   "cell_type": "code",
   "execution_count": 11,
   "metadata": {},
   "outputs": [],
   "source": [
    "price_1h = Dataset.load(\"binance.klines.um.btcusdt.1h\", update=False)\n",
    "price_1h_df = Dataset.load(\"binance.klines.um.btcusdt.1h\", update=False, pandas=True)\n",
    "funding_rate = Dataset.load(\"binance.fundingrate.um.btcusdt\", update=False)\n",
    "metrics_5m = Dataset.load(\"binance.metrics.um.btcusdt\", update=False)"
   ]
  },
  {
   "cell_type": "code",
   "execution_count": 12,
   "metadata": {},
   "outputs": [],
   "source": [
    "price_1h = price_1h.with_columns(\n",
    "    pl.col(\"datetime\").cast(pl.Datetime(\"ms\"))\n",
    ")"
   ]
  },
  {
   "cell_type": "code",
   "execution_count": 13,
   "metadata": {},
   "outputs": [],
   "source": [
    "funding_rate = funding_rate.with_columns(\n",
    "    pl.col(\"datetime\").cast(pl.Datetime(\"ms\"))\n",
    ")\n",
    "metrics_5m = metrics_5m.with_columns(\n",
    "    pl.col(\"datetime\").cast(pl.Datetime(\"ms\"))\n",
    ")"
   ]
  },
  {
   "cell_type": "code",
   "execution_count": 19,
   "metadata": {},
   "outputs": [],
   "source": [
    "price_1m = Dataset.load('binance.klines.um.btcusdt.1m', update=False)"
   ]
  },
  {
   "cell_type": "code",
   "execution_count": 20,
   "metadata": {},
   "outputs": [
    {
     "data": {
      "text/html": [
       "<div><style>\n",
       ".dataframe > thead > tr,\n",
       ".dataframe > tbody > tr {\n",
       "  text-align: right;\n",
       "  white-space: pre-wrap;\n",
       "}\n",
       "</style>\n",
       "<small>shape: (2_897_615, 13)</small><table border=\"1\" class=\"dataframe\"><thead><tr><th>datetime</th><th>open_time</th><th>open</th><th>high</th><th>low</th><th>close</th><th>volume</th><th>close_time</th><th>quote_asset_volume</th><th>number_of_trades</th><th>taker_buy_base_asset_volume</th><th>taker_buy_quote_asset_volume</th><th>ignore</th></tr><tr><td>datetime[ms, UTC]</td><td>datetime[ms, UTC]</td><td>f64</td><td>f64</td><td>f64</td><td>f64</td><td>f64</td><td>i64</td><td>f64</td><td>i64</td><td>f64</td><td>f64</td><td>f64</td></tr></thead><tbody><tr><td>2020-01-01 00:01:00 UTC</td><td>2020-01-01 00:00:00 UTC</td><td>7189.43</td><td>7190.52</td><td>7177.0</td><td>7182.44</td><td>246.092</td><td>1577836859999</td><td>1.7674e6</td><td>336</td><td>46.63</td><td>334813.1982</td><td>0.0</td></tr><tr><td>2020-01-01 00:02:00 UTC</td><td>2020-01-01 00:01:00 UTC</td><td>7182.43</td><td>7182.44</td><td>7178.75</td><td>7179.01</td><td>70.909</td><td>1577836919999</td><td>509145.78482</td><td>140</td><td>32.597</td><td>234063.27884</td><td>0.0</td></tr><tr><td>2020-01-01 00:03:00 UTC</td><td>2020-01-01 00:02:00 UTC</td><td>7179.01</td><td>7179.01</td><td>7175.25</td><td>7177.93</td><td>99.42</td><td>1577836979999</td><td>713539.55348</td><td>148</td><td>16.311</td><td>117066.92118</td><td>0.0</td></tr><tr><td>2020-01-01 00:04:00 UTC</td><td>2020-01-01 00:03:00 UTC</td><td>7177.77</td><td>7182.6</td><td>7177.0</td><td>7181.11</td><td>69.33</td><td>1577837039999</td><td>497793.35929</td><td>104</td><td>43.723</td><td>313920.02981</td><td>0.0</td></tr><tr><td>2020-01-01 00:05:00 UTC</td><td>2020-01-01 00:04:00 UTC</td><td>7179.1</td><td>7179.1</td><td>7172.94</td><td>7175.25</td><td>97.368</td><td>1577837099999</td><td>698627.39382</td><td>193</td><td>36.616</td><td>262734.68999</td><td>0.0</td></tr><tr><td>&hellip;</td><td>&hellip;</td><td>&hellip;</td><td>&hellip;</td><td>&hellip;</td><td>&hellip;</td><td>&hellip;</td><td>&hellip;</td><td>&hellip;</td><td>&hellip;</td><td>&hellip;</td><td>&hellip;</td><td>&hellip;</td></tr><tr><td>2025-07-05 05:31:00 UTC</td><td>2025-07-05 05:30:00 UTC</td><td>108071.7</td><td>108071.7</td><td>108048.0</td><td>108048.0</td><td>32.312</td><td>1751693459999</td><td>3.4917e6</td><td>604</td><td>7.159</td><td>773608.4164</td><td>0.0</td></tr><tr><td>2025-07-05 05:32:00 UTC</td><td>2025-07-05 05:31:00 UTC</td><td>108048.0</td><td>108048.1</td><td>108038.6</td><td>108038.6</td><td>10.129</td><td>1751693519999</td><td>1.0944e6</td><td>241</td><td>0.542</td><td>58559.7578</td><td>0.0</td></tr><tr><td>2025-07-05 05:33:00 UTC</td><td>2025-07-05 05:32:00 UTC</td><td>108038.7</td><td>108038.7</td><td>108002.7</td><td>108002.7</td><td>16.805</td><td>1751693579999</td><td>1.8153e6</td><td>694</td><td>1.12</td><td>120986.8634</td><td>0.0</td></tr><tr><td>2025-07-05 05:34:00 UTC</td><td>2025-07-05 05:33:00 UTC</td><td>108002.7</td><td>108002.8</td><td>107983.6</td><td>107985.0</td><td>23.982</td><td>1751693639999</td><td>2.5897e6</td><td>542</td><td>1.257</td><td>135739.2961</td><td>0.0</td></tr><tr><td>2025-07-05 05:35:00 UTC</td><td>2025-07-05 05:34:00 UTC</td><td>107985.1</td><td>107989.3</td><td>107954.5</td><td>107974.3</td><td>49.365</td><td>1751693699999</td><td>5.3301e6</td><td>1270</td><td>13.618</td><td>1.4705e6</td><td>0.0</td></tr></tbody></table></div>"
      ],
      "text/plain": [
       "shape: (2_897_615, 13)\n",
       "┌────────────┬────────────┬──────────┬──────────┬───┬────────────┬────────────┬───────────┬────────┐\n",
       "│ datetime   ┆ open_time  ┆ open     ┆ high     ┆ … ┆ number_of_ ┆ taker_buy_ ┆ taker_buy ┆ ignore │\n",
       "│ ---        ┆ ---        ┆ ---      ┆ ---      ┆   ┆ trades     ┆ base_asset ┆ _quote_as ┆ ---    │\n",
       "│ datetime[m ┆ datetime[m ┆ f64      ┆ f64      ┆   ┆ ---        ┆ _volume    ┆ set_volum ┆ f64    │\n",
       "│ s, UTC]    ┆ s, UTC]    ┆          ┆          ┆   ┆ i64        ┆ ---        ┆ e         ┆        │\n",
       "│            ┆            ┆          ┆          ┆   ┆            ┆ f64        ┆ ---       ┆        │\n",
       "│            ┆            ┆          ┆          ┆   ┆            ┆            ┆ f64       ┆        │\n",
       "╞════════════╪════════════╪══════════╪══════════╪═══╪════════════╪════════════╪═══════════╪════════╡\n",
       "│ 2020-01-01 ┆ 2020-01-01 ┆ 7189.43  ┆ 7190.52  ┆ … ┆ 336        ┆ 46.63      ┆ 334813.19 ┆ 0.0    │\n",
       "│ 00:01:00   ┆ 00:00:00   ┆          ┆          ┆   ┆            ┆            ┆ 82        ┆        │\n",
       "│ UTC        ┆ UTC        ┆          ┆          ┆   ┆            ┆            ┆           ┆        │\n",
       "│ 2020-01-01 ┆ 2020-01-01 ┆ 7182.43  ┆ 7182.44  ┆ … ┆ 140        ┆ 32.597     ┆ 234063.27 ┆ 0.0    │\n",
       "│ 00:02:00   ┆ 00:01:00   ┆          ┆          ┆   ┆            ┆            ┆ 884       ┆        │\n",
       "│ UTC        ┆ UTC        ┆          ┆          ┆   ┆            ┆            ┆           ┆        │\n",
       "│ 2020-01-01 ┆ 2020-01-01 ┆ 7179.01  ┆ 7179.01  ┆ … ┆ 148        ┆ 16.311     ┆ 117066.92 ┆ 0.0    │\n",
       "│ 00:03:00   ┆ 00:02:00   ┆          ┆          ┆   ┆            ┆            ┆ 118       ┆        │\n",
       "│ UTC        ┆ UTC        ┆          ┆          ┆   ┆            ┆            ┆           ┆        │\n",
       "│ 2020-01-01 ┆ 2020-01-01 ┆ 7177.77  ┆ 7182.6   ┆ … ┆ 104        ┆ 43.723     ┆ 313920.02 ┆ 0.0    │\n",
       "│ 00:04:00   ┆ 00:03:00   ┆          ┆          ┆   ┆            ┆            ┆ 981       ┆        │\n",
       "│ UTC        ┆ UTC        ┆          ┆          ┆   ┆            ┆            ┆           ┆        │\n",
       "│ 2020-01-01 ┆ 2020-01-01 ┆ 7179.1   ┆ 7179.1   ┆ … ┆ 193        ┆ 36.616     ┆ 262734.68 ┆ 0.0    │\n",
       "│ 00:05:00   ┆ 00:04:00   ┆          ┆          ┆   ┆            ┆            ┆ 999       ┆        │\n",
       "│ UTC        ┆ UTC        ┆          ┆          ┆   ┆            ┆            ┆           ┆        │\n",
       "│ …          ┆ …          ┆ …        ┆ …        ┆ … ┆ …          ┆ …          ┆ …         ┆ …      │\n",
       "│ 2025-07-05 ┆ 2025-07-05 ┆ 108071.7 ┆ 108071.7 ┆ … ┆ 604        ┆ 7.159      ┆ 773608.41 ┆ 0.0    │\n",
       "│ 05:31:00   ┆ 05:30:00   ┆          ┆          ┆   ┆            ┆            ┆ 64        ┆        │\n",
       "│ UTC        ┆ UTC        ┆          ┆          ┆   ┆            ┆            ┆           ┆        │\n",
       "│ 2025-07-05 ┆ 2025-07-05 ┆ 108048.0 ┆ 108048.1 ┆ … ┆ 241        ┆ 0.542      ┆ 58559.757 ┆ 0.0    │\n",
       "│ 05:32:00   ┆ 05:31:00   ┆          ┆          ┆   ┆            ┆            ┆ 8         ┆        │\n",
       "│ UTC        ┆ UTC        ┆          ┆          ┆   ┆            ┆            ┆           ┆        │\n",
       "│ 2025-07-05 ┆ 2025-07-05 ┆ 108038.7 ┆ 108038.7 ┆ … ┆ 694        ┆ 1.12       ┆ 120986.86 ┆ 0.0    │\n",
       "│ 05:33:00   ┆ 05:32:00   ┆          ┆          ┆   ┆            ┆            ┆ 34        ┆        │\n",
       "│ UTC        ┆ UTC        ┆          ┆          ┆   ┆            ┆            ┆           ┆        │\n",
       "│ 2025-07-05 ┆ 2025-07-05 ┆ 108002.7 ┆ 108002.8 ┆ … ┆ 542        ┆ 1.257      ┆ 135739.29 ┆ 0.0    │\n",
       "│ 05:34:00   ┆ 05:33:00   ┆          ┆          ┆   ┆            ┆            ┆ 61        ┆        │\n",
       "│ UTC        ┆ UTC        ┆          ┆          ┆   ┆            ┆            ┆           ┆        │\n",
       "│ 2025-07-05 ┆ 2025-07-05 ┆ 107985.1 ┆ 107989.3 ┆ … ┆ 1270       ┆ 13.618     ┆ 1.4705e6  ┆ 0.0    │\n",
       "│ 05:35:00   ┆ 05:34:00   ┆          ┆          ┆   ┆            ┆            ┆           ┆        │\n",
       "│ UTC        ┆ UTC        ┆          ┆          ┆   ┆            ┆            ┆           ┆        │\n",
       "└────────────┴────────────┴──────────┴──────────┴───┴────────────┴────────────┴───────────┴────────┘"
      ]
     },
     "execution_count": 20,
     "metadata": {},
     "output_type": "execute_result"
    }
   ],
   "source": [
    "price_1m"
   ]
  },
  {
   "cell_type": "code",
   "execution_count": 23,
   "metadata": {},
   "outputs": [],
   "source": [
    "vol_5m = price_1m.group_by_dynamic(\n",
    "    index_column = 'datetime', every = '5m', closed='right'\n",
    ").agg(\n",
    "    [\n",
    "        pl.col(\"volume\").sum().alias(\"volume\"),\n",
    "    ]\n",
    ")"
   ]
  },
  {
   "cell_type": "code",
   "execution_count": 26,
   "metadata": {},
   "outputs": [],
   "source": [
    "metrics_5m = metrics_5m.with_columns(\n",
    "    pl.col(\"datetime\").cast(pl.Datetime(\"ms\"))\n",
    ")"
   ]
  },
  {
   "cell_type": "code",
   "execution_count": 36,
   "metadata": {},
   "outputs": [],
   "source": [
    "metrics_5m = metrics_5m.with_columns(\n",
    "    pl.col(\"datetime\").cast(pl.Datetime(\"ms\"))\n",
    ")\n",
    "vol_5m = vol_5m.with_columns(\n",
    "    pl.col(\"datetime\").cast(pl.Datetime(\"ms\"))\n",
    ")"
   ]
  },
  {
   "cell_type": "code",
   "execution_count": 37,
   "metadata": {},
   "outputs": [],
   "source": [
    "metrics_5m = metrics_5m.join(vol_5m, on=\"datetime\", how=\"left\")"
   ]
  },
  {
   "cell_type": "code",
   "execution_count": 39,
   "metadata": {},
   "outputs": [],
   "source": [
    "metrics_5m = metrics_5m.with_columns(\n",
    "    (pl.col(\"sum_taker_long_short_vol_ratio\") + 1).alias(\"tmp\")\n",
    ")"
   ]
  },
  {
   "cell_type": "code",
   "execution_count": 41,
   "metadata": {},
   "outputs": [],
   "source": [
    "metrics_5m = metrics_5m.with_columns(\n",
    "    (pl.col('volume') / pl.col(\"tmp\")).alias(\"taker_short_vol\")\n",
    ")"
   ]
  },
  {
   "cell_type": "code",
   "execution_count": 42,
   "metadata": {},
   "outputs": [],
   "source": [
    "metrics_5m = metrics_5m.with_columns(\n",
    "    (pl.col('volume') - pl.col('taker_short_vol')).alias(\"taker_long_vol\")\n",
    ")"
   ]
  },
  {
   "cell_type": "code",
   "execution_count": 43,
   "metadata": {},
   "outputs": [
    {
     "data": {
      "text/html": [
       "<div><style>\n",
       ".dataframe > thead > tr,\n",
       ".dataframe > tbody > tr {\n",
       "  text-align: right;\n",
       "  white-space: pre-wrap;\n",
       "}\n",
       "</style>\n",
       "<small>shape: (324_439, 12)</small><table border=\"1\" class=\"dataframe\"><thead><tr><th>datetime</th><th>symbol</th><th>sum_open_interest</th><th>sum_open_interest_value</th><th>count_toptrader_long_short_ratio</th><th>sum_toptrader_long_short_ratio</th><th>count_long_short_ratio</th><th>sum_taker_long_short_vol_ratio</th><th>volume</th><th>tmp</th><th>taker_short_vol</th><th>taker_long_vol</th></tr><tr><td>datetime[ms]</td><td>str</td><td>f64</td><td>f64</td><td>f64</td><td>f64</td><td>f64</td><td>f64</td><td>f64</td><td>f64</td><td>f64</td><td>f64</td></tr></thead><tbody><tr><td>2021-12-01 00:00:00</td><td>&quot;BTCUSDT&quot;</td><td>59230.06</td><td>3.3725e9</td><td>4.151199</td><td>1.134294</td><td>4.021772</td><td>0.62216</td><td>1964.666</td><td>1.62216</td><td>1211.141653</td><td>753.524347</td></tr><tr><td>2021-12-01 00:05:00</td><td>&quot;BTCUSDT&quot;</td><td>59192.974</td><td>3.3655e9</td><td>4.128852</td><td>1.134559</td><td>3.996237</td><td>0.826275</td><td>1689.603</td><td>1.826275</td><td>925.163736</td><td>764.439264</td></tr><tr><td>2021-12-01 00:10:00</td><td>&quot;BTCUSDT&quot;</td><td>59288.595</td><td>3.3899e9</td><td>4.002912</td><td>1.138011</td><td>4.036305</td><td>1.694746</td><td>1885.78</td><td>2.694746</td><td>699.798813</td><td>1185.981187</td></tr><tr><td>2021-12-01 00:15:00</td><td>&quot;BTCUSDT&quot;</td><td>59279.355</td><td>3.3933e9</td><td>3.984167</td><td>1.13764</td><td>4.043376</td><td>1.076171</td><td>813.725</td><td>2.076171</td><td>391.93542</td><td>421.78958</td></tr><tr><td>2021-12-01 00:20:00</td><td>&quot;BTCUSDT&quot;</td><td>59320.924</td><td>3.4061e9</td><td>3.959907</td><td>1.137357</td><td>4.033051</td><td>0.904796</td><td>567.603</td><td>1.904796</td><td>297.986256</td><td>269.616744</td></tr><tr><td>&hellip;</td><td>&hellip;</td><td>&hellip;</td><td>&hellip;</td><td>&hellip;</td><td>&hellip;</td><td>&hellip;</td><td>&hellip;</td><td>&hellip;</td><td>&hellip;</td><td>&hellip;</td><td>&hellip;</td></tr><tr><td>2024-12-31 23:40:00</td><td>&quot;BTCUSDT&quot;</td><td>91257.898</td><td>8.5271e9</td><td>1.802805</td><td>2.109118</td><td>1.809816</td><td>1.074214</td><td>210.22</td><td>2.074214</td><td>101.349234</td><td>108.870766</td></tr><tr><td>2024-12-31 23:45:00</td><td>&quot;BTCUSDT&quot;</td><td>91246.496</td><td>8.5296e9</td><td>1.807319</td><td>2.110396</td><td>1.815404</td><td>0.947209</td><td>228.798</td><td>1.947209</td><td>117.500484</td><td>111.297516</td></tr><tr><td>2024-12-31 23:50:00</td><td>&quot;BTCUSDT&quot;</td><td>91258.036</td><td>8.5348e9</td><td>1.810354</td><td>2.109759</td><td>1.819173</td><td>1.414375</td><td>265.406</td><td>2.414375</td><td>109.927414</td><td>155.478586</td></tr><tr><td>2024-12-31 23:55:00</td><td>&quot;BTCUSDT&quot;</td><td>91227.361</td><td>8.5416e9</td><td>1.808813</td><td>2.113731</td><td>1.819643</td><td>1.801901</td><td>151.146</td><td>2.801901</td><td>53.94409</td><td>97.20191</td></tr><tr><td>2025-01-01 00:00:01</td><td>&quot;BTCUSDT&quot;</td><td>91237.347</td><td>8.5352e9</td><td>1.810149</td><td>2.113485</td><td>1.821882</td><td>1.16934</td><td>null</td><td>2.16934</td><td>null</td><td>null</td></tr></tbody></table></div>"
      ],
      "text/plain": [
       "shape: (324_439, 12)\n",
       "┌────────────┬─────────┬────────────┬────────────┬───┬──────────┬──────────┬───────────┬───────────┐\n",
       "│ datetime   ┆ symbol  ┆ sum_open_i ┆ sum_open_i ┆ … ┆ volume   ┆ tmp      ┆ taker_sho ┆ taker_lon │\n",
       "│ ---        ┆ ---     ┆ nterest    ┆ nterest_va ┆   ┆ ---      ┆ ---      ┆ rt_vol    ┆ g_vol     │\n",
       "│ datetime[m ┆ str     ┆ ---        ┆ lue        ┆   ┆ f64      ┆ f64      ┆ ---       ┆ ---       │\n",
       "│ s]         ┆         ┆ f64        ┆ ---        ┆   ┆          ┆          ┆ f64       ┆ f64       │\n",
       "│            ┆         ┆            ┆ f64        ┆   ┆          ┆          ┆           ┆           │\n",
       "╞════════════╪═════════╪════════════╪════════════╪═══╪══════════╪══════════╪═══════════╪═══════════╡\n",
       "│ 2021-12-01 ┆ BTCUSDT ┆ 59230.06   ┆ 3.3725e9   ┆ … ┆ 1964.666 ┆ 1.62216  ┆ 1211.1416 ┆ 753.52434 │\n",
       "│ 00:00:00   ┆         ┆            ┆            ┆   ┆          ┆          ┆ 53        ┆ 7         │\n",
       "│ 2021-12-01 ┆ BTCUSDT ┆ 59192.974  ┆ 3.3655e9   ┆ … ┆ 1689.603 ┆ 1.826275 ┆ 925.16373 ┆ 764.43926 │\n",
       "│ 00:05:00   ┆         ┆            ┆            ┆   ┆          ┆          ┆ 6         ┆ 4         │\n",
       "│ 2021-12-01 ┆ BTCUSDT ┆ 59288.595  ┆ 3.3899e9   ┆ … ┆ 1885.78  ┆ 2.694746 ┆ 699.79881 ┆ 1185.9811 │\n",
       "│ 00:10:00   ┆         ┆            ┆            ┆   ┆          ┆          ┆ 3         ┆ 87        │\n",
       "│ 2021-12-01 ┆ BTCUSDT ┆ 59279.355  ┆ 3.3933e9   ┆ … ┆ 813.725  ┆ 2.076171 ┆ 391.93542 ┆ 421.78958 │\n",
       "│ 00:15:00   ┆         ┆            ┆            ┆   ┆          ┆          ┆           ┆           │\n",
       "│ 2021-12-01 ┆ BTCUSDT ┆ 59320.924  ┆ 3.4061e9   ┆ … ┆ 567.603  ┆ 1.904796 ┆ 297.98625 ┆ 269.61674 │\n",
       "│ 00:20:00   ┆         ┆            ┆            ┆   ┆          ┆          ┆ 6         ┆ 4         │\n",
       "│ …          ┆ …       ┆ …          ┆ …          ┆ … ┆ …        ┆ …        ┆ …         ┆ …         │\n",
       "│ 2024-12-31 ┆ BTCUSDT ┆ 91257.898  ┆ 8.5271e9   ┆ … ┆ 210.22   ┆ 2.074214 ┆ 101.34923 ┆ 108.87076 │\n",
       "│ 23:40:00   ┆         ┆            ┆            ┆   ┆          ┆          ┆ 4         ┆ 6         │\n",
       "│ 2024-12-31 ┆ BTCUSDT ┆ 91246.496  ┆ 8.5296e9   ┆ … ┆ 228.798  ┆ 1.947209 ┆ 117.50048 ┆ 111.29751 │\n",
       "│ 23:45:00   ┆         ┆            ┆            ┆   ┆          ┆          ┆ 4         ┆ 6         │\n",
       "│ 2024-12-31 ┆ BTCUSDT ┆ 91258.036  ┆ 8.5348e9   ┆ … ┆ 265.406  ┆ 2.414375 ┆ 109.92741 ┆ 155.47858 │\n",
       "│ 23:50:00   ┆         ┆            ┆            ┆   ┆          ┆          ┆ 4         ┆ 6         │\n",
       "│ 2024-12-31 ┆ BTCUSDT ┆ 91227.361  ┆ 8.5416e9   ┆ … ┆ 151.146  ┆ 2.801901 ┆ 53.94409  ┆ 97.20191  │\n",
       "│ 23:55:00   ┆         ┆            ┆            ┆   ┆          ┆          ┆           ┆           │\n",
       "│ 2025-01-01 ┆ BTCUSDT ┆ 91237.347  ┆ 8.5352e9   ┆ … ┆ null     ┆ 2.16934  ┆ null      ┆ null      │\n",
       "│ 00:00:01   ┆         ┆            ┆            ┆   ┆          ┆          ┆           ┆           │\n",
       "└────────────┴─────────┴────────────┴────────────┴───┴──────────┴──────────┴───────────┴───────────┘"
      ]
     },
     "execution_count": 43,
     "metadata": {},
     "output_type": "execute_result"
    }
   ],
   "source": [
    "metrics_5m"
   ]
  },
  {
   "cell_type": "code",
   "execution_count": 114,
   "metadata": {},
   "outputs": [],
   "source": [
    "metrics_1h = metrics_5m.group_by_dynamic(\n",
    "    index_column = 'datetime', every='1h', closed='right'\n",
    ").agg(\n",
    "            [\n",
    "                pl.col(\"sum_open_interest\").last().alias(\"sum_open_interest\"),\n",
    "                pl.col(\"sum_toptrader_long_short_ratio\").last().alias(\"sum_toptrader_long_short_ratio\"),\n",
    "                pl.col(\"count_toptrader_long_short_ratio\").last().alias(\"count_toptrader_long_short_ratio\"),\n",
    "                pl.col(\"count_long_short_ratio\").last().alias(\"count_long_short_ratio\"),\n",
    "                pl.col('taker_long_vol').sum().alias(\"taker_long_vol\"),\n",
    "                pl.col('taker_short_vol').sum().alias(\"taker_short_vol\")\n",
    "            ]\n",
    "        )"
   ]
  },
  {
   "cell_type": "code",
   "execution_count": 115,
   "metadata": {},
   "outputs": [],
   "source": [
    "metrics_1h = metrics_1h.to_pandas()\n",
    "metrics_1h.index = metrics_1h['datetime']"
   ]
  },
  {
   "cell_type": "code",
   "execution_count": 116,
   "metadata": {},
   "outputs": [],
   "source": [
    "metrics_1h.drop(columns = ['datetime'], inplace=True)\n",
    "metrics_1h['taker_long_short_ratio'] = metrics_1h['taker_long_vol'] / metrics_1h['taker_short_vol']\n"
   ]
  },
  {
   "cell_type": "code",
   "execution_count": 117,
   "metadata": {},
   "outputs": [],
   "source": [
    "metrics_1h = metrics_1h.iloc[1:]"
   ]
  },
  {
   "cell_type": "code",
   "execution_count": 75,
   "metadata": {},
   "outputs": [],
   "source": [
    "price_1h = price_1h.to_pandas()"
   ]
  },
  {
   "cell_type": "code",
   "execution_count": 76,
   "metadata": {},
   "outputs": [],
   "source": [
    "price_1h.index = price_1h['datetime']\n",
    "price_1h.drop(columns = ['datetime'], inplace=True)"
   ]
  },
  {
   "cell_type": "code",
   "execution_count": 62,
   "metadata": {},
   "outputs": [],
   "source": [
    "price_1h = price_1h.reindex(metrics_1h.index)"
   ]
  },
  {
   "cell_type": "code",
   "execution_count": 80,
   "metadata": {},
   "outputs": [],
   "source": [
    "price_1h.index = price_1h.index.tz_localize(None)"
   ]
  },
  {
   "cell_type": "code",
   "execution_count": 82,
   "metadata": {},
   "outputs": [],
   "source": [
    "price_1h = price_1h.reindex(metrics_1h.index)"
   ]
  },
  {
   "cell_type": "code",
   "execution_count": 85,
   "metadata": {},
   "outputs": [],
   "source": [
    "price_1h['return'] = price_1h['close'].pct_change()"
   ]
  },
  {
   "cell_type": "code",
   "execution_count": 144,
   "metadata": {},
   "outputs": [
    {
     "data": {
      "text/html": [
       "<div>\n",
       "<style scoped>\n",
       "    .dataframe tbody tr th:only-of-type {\n",
       "        vertical-align: middle;\n",
       "    }\n",
       "\n",
       "    .dataframe tbody tr th {\n",
       "        vertical-align: top;\n",
       "    }\n",
       "\n",
       "    .dataframe thead th {\n",
       "        text-align: right;\n",
       "    }\n",
       "</style>\n",
       "<table border=\"1\" class=\"dataframe\">\n",
       "  <thead>\n",
       "    <tr style=\"text-align: right;\">\n",
       "      <th></th>\n",
       "      <th>sum_open_interest</th>\n",
       "      <th>sum_toptrader_long_short_ratio</th>\n",
       "      <th>count_toptrader_long_short_ratio</th>\n",
       "      <th>count_long_short_ratio</th>\n",
       "      <th>taker_long_vol</th>\n",
       "      <th>taker_short_vol</th>\n",
       "      <th>taker_long_short_ratio</th>\n",
       "      <th>between_toptrader_all</th>\n",
       "    </tr>\n",
       "    <tr>\n",
       "      <th>datetime</th>\n",
       "      <th></th>\n",
       "      <th></th>\n",
       "      <th></th>\n",
       "      <th></th>\n",
       "      <th></th>\n",
       "      <th></th>\n",
       "      <th></th>\n",
       "      <th></th>\n",
       "    </tr>\n",
       "  </thead>\n",
       "  <tbody>\n",
       "    <tr>\n",
       "      <th>2021-12-01 00:00:00</th>\n",
       "      <td>59256.021</td>\n",
       "      <td>1.136411</td>\n",
       "      <td>3.755819</td>\n",
       "      <td>3.900751</td>\n",
       "      <td>5246.417846</td>\n",
       "      <td>4866.395154</td>\n",
       "      <td>1.078091</td>\n",
       "      <td>-0.144932</td>\n",
       "    </tr>\n",
       "    <tr>\n",
       "      <th>2021-12-01 01:00:00</th>\n",
       "      <td>59399.349</td>\n",
       "      <td>1.135971</td>\n",
       "      <td>3.989322</td>\n",
       "      <td>4.087726</td>\n",
       "      <td>2927.101256</td>\n",
       "      <td>3490.805744</td>\n",
       "      <td>0.838517</td>\n",
       "      <td>-0.098404</td>\n",
       "    </tr>\n",
       "    <tr>\n",
       "      <th>2021-12-01 02:00:00</th>\n",
       "      <td>59750.648</td>\n",
       "      <td>1.137065</td>\n",
       "      <td>4.014721</td>\n",
       "      <td>4.148403</td>\n",
       "      <td>3511.949222</td>\n",
       "      <td>2838.691778</td>\n",
       "      <td>1.237172</td>\n",
       "      <td>-0.133682</td>\n",
       "    </tr>\n",
       "    <tr>\n",
       "      <th>2021-12-01 03:00:00</th>\n",
       "      <td>59876.553</td>\n",
       "      <td>1.141809</td>\n",
       "      <td>3.996875</td>\n",
       "      <td>4.147189</td>\n",
       "      <td>4233.565049</td>\n",
       "      <td>4136.770951</td>\n",
       "      <td>1.023398</td>\n",
       "      <td>-0.150314</td>\n",
       "    </tr>\n",
       "    <tr>\n",
       "      <th>2021-12-01 04:00:00</th>\n",
       "      <td>60386.705</td>\n",
       "      <td>1.154876</td>\n",
       "      <td>4.059305</td>\n",
       "      <td>4.209290</td>\n",
       "      <td>2111.390873</td>\n",
       "      <td>2186.694127</td>\n",
       "      <td>0.965563</td>\n",
       "      <td>-0.149985</td>\n",
       "    </tr>\n",
       "    <tr>\n",
       "      <th>...</th>\n",
       "      <td>...</td>\n",
       "      <td>...</td>\n",
       "      <td>...</td>\n",
       "      <td>...</td>\n",
       "      <td>...</td>\n",
       "      <td>...</td>\n",
       "      <td>...</td>\n",
       "      <td>...</td>\n",
       "    </tr>\n",
       "    <tr>\n",
       "      <th>2024-12-31 20:00:00</th>\n",
       "      <td>91934.914</td>\n",
       "      <td>2.080613</td>\n",
       "      <td>1.738903</td>\n",
       "      <td>1.730005</td>\n",
       "      <td>2802.799185</td>\n",
       "      <td>2789.995815</td>\n",
       "      <td>1.004589</td>\n",
       "      <td>0.008898</td>\n",
       "    </tr>\n",
       "    <tr>\n",
       "      <th>2024-12-31 21:00:00</th>\n",
       "      <td>91797.534</td>\n",
       "      <td>2.088614</td>\n",
       "      <td>1.766687</td>\n",
       "      <td>1.770121</td>\n",
       "      <td>1488.235484</td>\n",
       "      <td>1108.575516</td>\n",
       "      <td>1.342476</td>\n",
       "      <td>-0.003434</td>\n",
       "    </tr>\n",
       "    <tr>\n",
       "      <th>2024-12-31 22:00:00</th>\n",
       "      <td>91356.390</td>\n",
       "      <td>2.114511</td>\n",
       "      <td>1.779998</td>\n",
       "      <td>1.784441</td>\n",
       "      <td>1463.246574</td>\n",
       "      <td>1779.409426</td>\n",
       "      <td>0.822321</td>\n",
       "      <td>-0.004443</td>\n",
       "    </tr>\n",
       "    <tr>\n",
       "      <th>2024-12-31 23:00:00</th>\n",
       "      <td>91227.361</td>\n",
       "      <td>2.113731</td>\n",
       "      <td>1.808813</td>\n",
       "      <td>1.819643</td>\n",
       "      <td>1329.340176</td>\n",
       "      <td>1222.668824</td>\n",
       "      <td>1.087245</td>\n",
       "      <td>-0.010830</td>\n",
       "    </tr>\n",
       "    <tr>\n",
       "      <th>2025-01-01 00:00:00</th>\n",
       "      <td>91237.347</td>\n",
       "      <td>2.113485</td>\n",
       "      <td>1.810149</td>\n",
       "      <td>1.821882</td>\n",
       "      <td>0.000000</td>\n",
       "      <td>0.000000</td>\n",
       "      <td>NaN</td>\n",
       "      <td>-0.011732</td>\n",
       "    </tr>\n",
       "  </tbody>\n",
       "</table>\n",
       "<p>27040 rows × 8 columns</p>\n",
       "</div>"
      ],
      "text/plain": [
       "                     sum_open_interest  sum_toptrader_long_short_ratio  \\\n",
       "datetime                                                                 \n",
       "2021-12-01 00:00:00          59256.021                        1.136411   \n",
       "2021-12-01 01:00:00          59399.349                        1.135971   \n",
       "2021-12-01 02:00:00          59750.648                        1.137065   \n",
       "2021-12-01 03:00:00          59876.553                        1.141809   \n",
       "2021-12-01 04:00:00          60386.705                        1.154876   \n",
       "...                                ...                             ...   \n",
       "2024-12-31 20:00:00          91934.914                        2.080613   \n",
       "2024-12-31 21:00:00          91797.534                        2.088614   \n",
       "2024-12-31 22:00:00          91356.390                        2.114511   \n",
       "2024-12-31 23:00:00          91227.361                        2.113731   \n",
       "2025-01-01 00:00:00          91237.347                        2.113485   \n",
       "\n",
       "                     count_toptrader_long_short_ratio  count_long_short_ratio  \\\n",
       "datetime                                                                        \n",
       "2021-12-01 00:00:00                          3.755819                3.900751   \n",
       "2021-12-01 01:00:00                          3.989322                4.087726   \n",
       "2021-12-01 02:00:00                          4.014721                4.148403   \n",
       "2021-12-01 03:00:00                          3.996875                4.147189   \n",
       "2021-12-01 04:00:00                          4.059305                4.209290   \n",
       "...                                               ...                     ...   \n",
       "2024-12-31 20:00:00                          1.738903                1.730005   \n",
       "2024-12-31 21:00:00                          1.766687                1.770121   \n",
       "2024-12-31 22:00:00                          1.779998                1.784441   \n",
       "2024-12-31 23:00:00                          1.808813                1.819643   \n",
       "2025-01-01 00:00:00                          1.810149                1.821882   \n",
       "\n",
       "                     taker_long_vol  taker_short_vol  taker_long_short_ratio  \\\n",
       "datetime                                                                       \n",
       "2021-12-01 00:00:00     5246.417846      4866.395154                1.078091   \n",
       "2021-12-01 01:00:00     2927.101256      3490.805744                0.838517   \n",
       "2021-12-01 02:00:00     3511.949222      2838.691778                1.237172   \n",
       "2021-12-01 03:00:00     4233.565049      4136.770951                1.023398   \n",
       "2021-12-01 04:00:00     2111.390873      2186.694127                0.965563   \n",
       "...                             ...              ...                     ...   \n",
       "2024-12-31 20:00:00     2802.799185      2789.995815                1.004589   \n",
       "2024-12-31 21:00:00     1488.235484      1108.575516                1.342476   \n",
       "2024-12-31 22:00:00     1463.246574      1779.409426                0.822321   \n",
       "2024-12-31 23:00:00     1329.340176      1222.668824                1.087245   \n",
       "2025-01-01 00:00:00        0.000000         0.000000                     NaN   \n",
       "\n",
       "                     between_toptrader_all  \n",
       "datetime                                    \n",
       "2021-12-01 00:00:00              -0.144932  \n",
       "2021-12-01 01:00:00              -0.098404  \n",
       "2021-12-01 02:00:00              -0.133682  \n",
       "2021-12-01 03:00:00              -0.150314  \n",
       "2021-12-01 04:00:00              -0.149985  \n",
       "...                                    ...  \n",
       "2024-12-31 20:00:00               0.008898  \n",
       "2024-12-31 21:00:00              -0.003434  \n",
       "2024-12-31 22:00:00              -0.004443  \n",
       "2024-12-31 23:00:00              -0.010830  \n",
       "2025-01-01 00:00:00              -0.011732  \n",
       "\n",
       "[27040 rows x 8 columns]"
      ]
     },
     "execution_count": 144,
     "metadata": {},
     "output_type": "execute_result"
    }
   ],
   "source": [
    "metrics_1h"
   ]
  },
  {
   "cell_type": "code",
   "execution_count": 135,
   "metadata": {},
   "outputs": [],
   "source": [
    "metrics_1h['between_toptrader_all'] = metrics_1h['count_toptrader_long_short_ratio'] - metrics_1h['count_long_short_ratio']"
   ]
  },
  {
   "cell_type": "code",
   "execution_count": 165,
   "metadata": {},
   "outputs": [],
   "source": [
    "target = metrics_1h['taker_long_short_ratio'].rolling(8).mean() > metrics_1h['taker_long_short_ratio'].rolling(24).mean()\n",
    "target &= (metrics_1h['between_toptrader_all'].shift(1) > metrics_1h['between_toptrader_all'])"
   ]
  },
  {
   "cell_type": "code",
   "execution_count": 172,
   "metadata": {},
   "outputs": [
    {
     "name": "stderr",
     "output_type": "stream",
     "text": [
      "/var/folders/bl/q78dpd8s5lzb6t1zb3mmrv800000gn/T/ipykernel_24971/1106423774.py:1: FutureWarning: Downcasting object dtype arrays on .fillna, .ffill, .bfill is deprecated and will change in a future version. Call result.infer_objects(copy=False) instead. To opt-in to the future behavior, set `pd.set_option('future.no_silent_downcasting', True)`\n",
      "  (price_1h.loc[target.shift(1).fillna(False), 'return'] - 0.0004).cumsum().plot()\n"
     ]
    },
    {
     "data": {
      "text/plain": [
       "<Axes: xlabel='datetime'>"
      ]
     },
     "execution_count": 172,
     "metadata": {},
     "output_type": "execute_result"
    },
    {
     "data": {
      "image/png": "[encoded data removed]",
      "text/plain": [
       "<Figure size 640x480 with 1 Axes>"
      ]
     },
     "metadata": {},
     "output_type": "display_data"
    }
   ],
   "source": [
    "(price_1h.loc[target.shift(1).fillna(False), 'return'] - 0.0004).cumsum().plot()"
   ]
  },
  {
   "cell_type": "code",
   "execution_count": 150,
   "metadata": {},
   "outputs": [
    {
     "name": "stdout",
     "output_type": "stream",
     "text": [
      "Temporary directory created by metrics.py: /var/folders/bl/q78dpd8s5lzb6t1zb3mmrv800000gn/T/tmplb7vv1hf\n",
      "Temporary directory created by download_metrics.sh: /var/folders/bl/q78dpd8s5lzb6t1zb3mmrv800000gn/T/preprocess-XXXXXX.Q5YNHGqet6\n"
     ]
    },
    {
     "name": "stderr",
     "output_type": "stream",
     "text": [
      "\n",
      "1127 archives were successfully processed.\n"
     ]
    },
    {
     "data": {
      "text/html": [
       "<div><style>\n",
       ".dataframe > thead > tr,\n",
       ".dataframe > tbody > tr {\n",
       "  text-align: right;\n",
       "  white-space: pre-wrap;\n",
       "}\n",
       "</style>\n",
       "<small>shape: (324_439, 8)</small><table border=\"1\" class=\"dataframe\"><thead><tr><th>datetime</th><th>symbol</th><th>sum_open_interest</th><th>sum_open_interest_value</th><th>count_toptrader_long_short_ratio</th><th>sum_toptrader_long_short_ratio</th><th>count_long_short_ratio</th><th>sum_taker_long_short_vol_ratio</th></tr><tr><td>datetime[μs]</td><td>str</td><td>f64</td><td>f64</td><td>f64</td><td>f64</td><td>f64</td><td>f64</td></tr></thead><tbody><tr><td>2021-12-01 00:00:00</td><td>&quot;BTCUSDT&quot;</td><td>59230.06</td><td>3.3725e9</td><td>4.151199</td><td>1.134294</td><td>4.021772</td><td>0.62216</td></tr><tr><td>2021-12-01 00:05:00</td><td>&quot;BTCUSDT&quot;</td><td>59192.974</td><td>3.3655e9</td><td>4.128852</td><td>1.134559</td><td>3.996237</td><td>0.826275</td></tr><tr><td>2021-12-01 00:10:00</td><td>&quot;BTCUSDT&quot;</td><td>59288.595</td><td>3.3899e9</td><td>4.002912</td><td>1.138011</td><td>4.036305</td><td>1.694746</td></tr><tr><td>2021-12-01 00:15:00</td><td>&quot;BTCUSDT&quot;</td><td>59279.355</td><td>3.3933e9</td><td>3.984167</td><td>1.13764</td><td>4.043376</td><td>1.076171</td></tr><tr><td>2021-12-01 00:20:00</td><td>&quot;BTCUSDT&quot;</td><td>59320.924</td><td>3.4061e9</td><td>3.959907</td><td>1.137357</td><td>4.033051</td><td>0.904796</td></tr><tr><td>&hellip;</td><td>&hellip;</td><td>&hellip;</td><td>&hellip;</td><td>&hellip;</td><td>&hellip;</td><td>&hellip;</td><td>&hellip;</td></tr><tr><td>2024-12-31 23:40:00</td><td>&quot;BTCUSDT&quot;</td><td>91257.898</td><td>8.5271e9</td><td>1.802805</td><td>2.109118</td><td>1.809816</td><td>1.074214</td></tr><tr><td>2024-12-31 23:45:00</td><td>&quot;BTCUSDT&quot;</td><td>91246.496</td><td>8.5296e9</td><td>1.807319</td><td>2.110396</td><td>1.815404</td><td>0.947209</td></tr><tr><td>2024-12-31 23:50:00</td><td>&quot;BTCUSDT&quot;</td><td>91258.036</td><td>8.5348e9</td><td>1.810354</td><td>2.109759</td><td>1.819173</td><td>1.414375</td></tr><tr><td>2024-12-31 23:55:00</td><td>&quot;BTCUSDT&quot;</td><td>91227.361</td><td>8.5416e9</td><td>1.808813</td><td>2.113731</td><td>1.819643</td><td>1.801901</td></tr><tr><td>2025-01-01 00:00:01</td><td>&quot;BTCUSDT&quot;</td><td>91237.347</td><td>8.5352e9</td><td>1.810149</td><td>2.113485</td><td>1.821882</td><td>1.16934</td></tr></tbody></table></div>"
      ],
      "text/plain": [
       "shape: (324_439, 8)\n",
       "┌────────────┬─────────┬────────────┬────────────┬────────────┬────────────┬───────────┬───────────┐\n",
       "│ datetime   ┆ symbol  ┆ sum_open_i ┆ sum_open_i ┆ count_topt ┆ sum_toptra ┆ count_lon ┆ sum_taker │\n",
       "│ ---        ┆ ---     ┆ nterest    ┆ nterest_va ┆ rader_long ┆ der_long_s ┆ g_short_r ┆ _long_sho │\n",
       "│ datetime[μ ┆ str     ┆ ---        ┆ lue        ┆ _short_rat ┆ hort_ratio ┆ atio      ┆ rt_vol_ra │\n",
       "│ s]         ┆         ┆ f64        ┆ ---        ┆ …          ┆ ---        ┆ ---       ┆ tio       │\n",
       "│            ┆         ┆            ┆ f64        ┆ ---        ┆ f64        ┆ f64       ┆ ---       │\n",
       "│            ┆         ┆            ┆            ┆ f64        ┆            ┆           ┆ f64       │\n",
       "╞════════════╪═════════╪════════════╪════════════╪════════════╪════════════╪═══════════╪═══════════╡\n",
       "│ 2021-12-01 ┆ BTCUSDT ┆ 59230.06   ┆ 3.3725e9   ┆ 4.151199   ┆ 1.134294   ┆ 4.021772  ┆ 0.62216   │\n",
       "│ 00:00:00   ┆         ┆            ┆            ┆            ┆            ┆           ┆           │\n",
       "│ 2021-12-01 ┆ BTCUSDT ┆ 59192.974  ┆ 3.3655e9   ┆ 4.128852   ┆ 1.134559   ┆ 3.996237  ┆ 0.826275  │\n",
       "│ 00:05:00   ┆         ┆            ┆            ┆            ┆            ┆           ┆           │\n",
       "│ 2021-12-01 ┆ BTCUSDT ┆ 59288.595  ┆ 3.3899e9   ┆ 4.002912   ┆ 1.138011   ┆ 4.036305  ┆ 1.694746  │\n",
       "│ 00:10:00   ┆         ┆            ┆            ┆            ┆            ┆           ┆           │\n",
       "│ 2021-12-01 ┆ BTCUSDT ┆ 59279.355  ┆ 3.3933e9   ┆ 3.984167   ┆ 1.13764    ┆ 4.043376  ┆ 1.076171  │\n",
       "│ 00:15:00   ┆         ┆            ┆            ┆            ┆            ┆           ┆           │\n",
       "│ 2021-12-01 ┆ BTCUSDT ┆ 59320.924  ┆ 3.4061e9   ┆ 3.959907   ┆ 1.137357   ┆ 4.033051  ┆ 0.904796  │\n",
       "│ 00:20:00   ┆         ┆            ┆            ┆            ┆            ┆           ┆           │\n",
       "│ …          ┆ …       ┆ …          ┆ …          ┆ …          ┆ …          ┆ …         ┆ …         │\n",
       "│ 2024-12-31 ┆ BTCUSDT ┆ 91257.898  ┆ 8.5271e9   ┆ 1.802805   ┆ 2.109118   ┆ 1.809816  ┆ 1.074214  │\n",
       "│ 23:40:00   ┆         ┆            ┆            ┆            ┆            ┆           ┆           │\n",
       "│ 2024-12-31 ┆ BTCUSDT ┆ 91246.496  ┆ 8.5296e9   ┆ 1.807319   ┆ 2.110396   ┆ 1.815404  ┆ 0.947209  │\n",
       "│ 23:45:00   ┆         ┆            ┆            ┆            ┆            ┆           ┆           │\n",
       "│ 2024-12-31 ┆ BTCUSDT ┆ 91258.036  ┆ 8.5348e9   ┆ 1.810354   ┆ 2.109759   ┆ 1.819173  ┆ 1.414375  │\n",
       "│ 23:50:00   ┆         ┆            ┆            ┆            ┆            ┆           ┆           │\n",
       "│ 2024-12-31 ┆ BTCUSDT ┆ 91227.361  ┆ 8.5416e9   ┆ 1.808813   ┆ 2.113731   ┆ 1.819643  ┆ 1.801901  │\n",
       "│ 23:55:00   ┆         ┆            ┆            ┆            ┆            ┆           ┆           │\n",
       "│ 2025-01-01 ┆ BTCUSDT ┆ 91237.347  ┆ 8.5352e9   ┆ 1.810149   ┆ 2.113485   ┆ 1.821882  ┆ 1.16934   │\n",
       "│ 00:00:01   ┆         ┆            ┆            ┆            ┆            ┆           ┆           │\n",
       "└────────────┴─────────┴────────────┴────────────┴────────────┴────────────┴───────────┴───────────┘"
      ]
     },
     "execution_count": 150,
     "metadata": {},
     "output_type": "execute_result"
    }
   ],
   "source": [
    "Dataset.load(\"binance.metrics.um.btcusdt\", update=True)"
   ]
  }
 ],
 "metadata": {
  "kernelspec": {
   "display_name": ".venv",
   "language": "python",
   "name": "python3"
  },
  "language_info": {
   "codemirror_mode": {
    "name": "ipython",
    "version": 3
   },
   "file_extension": ".py",
   "mimetype": "text/x-python",
   "name": "python",
   "nbconvert_exporter": "python",
   "pygments_lexer": "ipython3",
   "version": "3.13.1"
  }
 },
 "nbformat": 4,
 "nbformat_minor": 2
}
